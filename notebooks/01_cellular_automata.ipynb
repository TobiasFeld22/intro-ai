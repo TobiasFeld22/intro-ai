{
 "cells": [
  {
   "cell_type": "markdown",
   "metadata": {},
   "source": [
    "<td>\n",
    "<a href=\"https://colab.research.google.com/github/raoulg/intro-ai/blob/main/notebooks/01_cellular_automata.ipynb\" target=\"_parent\"><img src=\"https://colab.research.google.com/assets/colab-badge.svg\" alt=\"Open In Colab\"/></a>\n",
    "</td>"
   ]
  },
  {
   "cell_type": "code",
   "execution_count": null,
   "metadata": {},
   "outputs": [],
   "source": [
    "import seaborn as sns\n",
    "import matplotlib.pyplot as plt"
   ]
  },
  {
   "cell_type": "code",
   "execution_count": null,
   "metadata": {},
   "outputs": [],
   "source": [
    "def apply_rule(rule: int, neighborhood: str) -> int:\n",
    "    \"\"\"\n",
    "    Apply the specified rule to a neighborhood and return the result.\n",
    "    \"\"\"\n",
    "    binary_rule = f'{rule:08b}'  # Convert rule to 8-bit binary string\n",
    "    index = int(neighborhood, 2)  # Convert neighborhood to decimal index\n",
    "    return int(''.join(reversed(binary_rule))[index])"
   ]
  },
  {
   "cell_type": "markdown",
   "metadata": {},
   "source": [
    "Rule 250 looks like this:\n",
    "\n",
    "![Rule 250](img/rule250.png)\n"
   ]
  },
  {
   "cell_type": "code",
   "execution_count": null,
   "metadata": {},
   "outputs": [],
   "source": [
    "rule = 250\n",
    "brule = f'{rule:08b}'\n",
    "brule"
   ]
  },
  {
   "cell_type": "code",
   "execution_count": null,
   "metadata": {},
   "outputs": [],
   "source": [
    "int('111' ,2)"
   ]
  },
  {
   "cell_type": "code",
   "execution_count": null,
   "metadata": {},
   "outputs": [],
   "source": [
    "def check_rule(rule: int) -> None:\n",
    "    for i in range(0, 8):\n",
    "        neighborhood = f'{i:03b}'\n",
    "        out = apply_rule(rule, neighborhood)\n",
    "        print(f'{neighborhood} -> {out}')\n",
    "check_rule(250)"
   ]
  },
  {
   "cell_type": "markdown",
   "metadata": {},
   "source": [
    "\n",
    "Rule 30 looks like this:\n",
    "\n",
    "![Rule 30](img/rule30.png)"
   ]
  },
  {
   "cell_type": "code",
   "execution_count": null,
   "metadata": {},
   "outputs": [],
   "source": [
    "check_rule(30)"
   ]
  },
  {
   "cell_type": "code",
   "execution_count": null,
   "metadata": {},
   "outputs": [],
   "source": [
    "def generate_next(cells: list[int], rule: int) -> list[int]:\n",
    "    \"\"\"\n",
    "    Generate the next generation of cells based on the specified rule.\n",
    "    \"\"\"\n",
    "    next_generation = []\n",
    "    for i in range(len(cells)):\n",
    "        # extract the neighborhood, making sure to wrap around the edges\n",
    "        left = cells[i - 1] if i > 0 else cells[-1]\n",
    "        center = cells[i]\n",
    "        right = cells[(i + 1) % len(cells)] if i < len(cells) - 1 else cells[0]\n",
    "\n",
    "        neighborhood = f\"{left}{center}{right}\"\n",
    "        next_generation.append(apply_rule(rule, neighborhood))\n",
    "\n",
    "    return next_generation"
   ]
  },
  {
   "cell_type": "code",
   "execution_count": null,
   "metadata": {},
   "outputs": [],
   "source": [
    "# Initial configuration (you can customize this)\n",
    "initial_cells = [0] * 100\n",
    "initial_cells[len(initial_cells) // 2] = 1  # Set the center cell to 1\n",
    "print(initial_cells)"
   ]
  },
  {
   "cell_type": "code",
   "execution_count": null,
   "metadata": {},
   "outputs": [],
   "source": [
    "rule_number = 250"
   ]
  },
  {
   "cell_type": "code",
   "execution_count": null,
   "metadata": {},
   "outputs": [],
   "source": [
    "# Initialize a 2D list to store all generations\n",
    "all_generations = [initial_cells.copy()]\n",
    "print(all_generations)"
   ]
  },
  {
   "cell_type": "code",
   "execution_count": null,
   "metadata": {},
   "outputs": [],
   "source": [
    "current_generation = initial_cells\n",
    "current_generation = generate_next(current_generation, rule_number)\n",
    "print(current_generation)"
   ]
  },
  {
   "cell_type": "code",
   "execution_count": null,
   "metadata": {},
   "outputs": [],
   "source": [
    "import random\n",
    "\n",
    "def generate_rule(rule: int, num_generations: int, width: int = 100, rand: bool = False) -> list[list[int]]:\n",
    "    if rand:\n",
    "        initial_cells = [random.choice([0, 1]) for _ in range(width)]\n",
    "    else:\n",
    "        initial_cells = [0] * width\n",
    "        initial_cells[len(initial_cells) // 2] = 1  # Set the center cell to 1\n",
    "    # Initialize a 2D list to store all generations\n",
    "    all_generations = [initial_cells.copy()]\n",
    "    current_generation = initial_cells\n",
    "    for _ in range(num_generations):\n",
    "        current_generation = generate_next(current_generation, rule)\n",
    "        all_generations.append(current_generation.copy())\n",
    "    return all_generations\n"
   ]
  },
  {
   "cell_type": "code",
   "execution_count": null,
   "metadata": {},
   "outputs": [],
   "source": [
    "n = 40\n",
    "all_generations = generate_rule(rule_number, n)\n",
    "print(all_generations)"
   ]
  },
  {
   "cell_type": "code",
   "execution_count": null,
   "metadata": {},
   "outputs": [],
   "source": [
    "def plot_generations(all_generations: list[list[int]], rule_number: int, size: tuple = (10, 5)) -> None:\n",
    "    \"\"\"\n",
    "    Plot the generations of a cellular automaton.\n",
    "    \"\"\"\n",
    "    # Create a grid of heatmaps\n",
    "    fig, ax = plt.subplots(figsize=size)\n",
    "    sns.heatmap(all_generations, cmap=\"binary\", cbar=False, annot=False, linewidths=0, ax=ax)\n",
    "    # Add a grid with light borders\n",
    "    ax.set_xticks([])  # Remove x-axis ticks\n",
    "    ax.set_yticks([])  # Remove y-axis ticks\n",
    "\n",
    "    ax.set_title(f'Cellular Automaton Evolution (Rule {rule_number})')\n",
    "    ax.set_xlabel('Cell Index')\n",
    "    ax.set_ylabel('Generation')\n",
    "    plt.show()"
   ]
  },
  {
   "cell_type": "code",
   "execution_count": null,
   "metadata": {},
   "outputs": [],
   "source": [
    "plot_generations(all_generations, rule_number)"
   ]
  },
  {
   "cell_type": "code",
   "execution_count": null,
   "metadata": {},
   "outputs": [],
   "source": [
    "rule_number = 90\n",
    "all_generations = generate_rule(rule_number, n)\n",
    "plot_generations(all_generations, rule_number)"
   ]
  },
  {
   "cell_type": "code",
   "execution_count": null,
   "metadata": {},
   "outputs": [],
   "source": [
    "rule_number = 110\n",
    "all_generations = generate_rule(rule_number, n)\n",
    "plot_generations(all_generations, rule_number)"
   ]
  },
  {
   "cell_type": "code",
   "execution_count": null,
   "metadata": {},
   "outputs": [],
   "source": [
    "rule_number = 30\n",
    "all_generations = generate_rule(rule_number, n)\n",
    "plot_generations(all_generations, rule_number)"
   ]
  },
  {
   "cell_type": "code",
   "execution_count": null,
   "metadata": {},
   "outputs": [],
   "source": [
    "rule_number = 110\n",
    "all_generations = generate_rule(rule_number, num_generations=700, width=200)\n",
    "plot_generations(all_generations, rule_number, size=(8, 40))"
   ]
  },
  {
   "cell_type": "code",
   "execution_count": null,
   "metadata": {},
   "outputs": [],
   "source": [
    "rule_number = 150\n",
    "all_generations = generate_rule(rule_number, num_generations=700, width=200, rand=False)\n",
    "plot_generations(all_generations, rule_number, size=(8, 40))"
   ]
  },
  {
   "cell_type": "code",
   "execution_count": null,
   "metadata": {},
   "outputs": [],
   "source": [
    "rule_number = 150\n",
    "all_generations = generate_rule(rule_number, num_generations=700, width=200, rand=True)\n",
    "plot_generations(all_generations, rule_number, size=(8, 40))"
   ]
  },
  {
   "cell_type": "code",
   "execution_count": null,
   "metadata": {},
   "outputs": [],
   "source": [
    "rule_number = 110\n",
    "all_generations = generate_rule(rule_number, num_generations=700, width=400, rand=True)\n",
    "plot_generations(all_generations, rule_number, size=(16, 40))"
   ]
  }
 ],
 "metadata": {
  "kernelspec": {
   "display_name": ".venv",
   "language": "python",
   "name": "python3"
  },
  "language_info": {
   "codemirror_mode": {
    "name": "ipython",
    "version": 3
   },
   "file_extension": ".py",
   "mimetype": "text/x-python",
   "name": "python",
   "nbconvert_exporter": "python",
   "pygments_lexer": "ipython3",
   "version": "3.11.5"
  }
 },
 "nbformat": 4,
 "nbformat_minor": 2
}
